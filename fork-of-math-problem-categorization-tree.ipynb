{
 "cells": [
  {
   "cell_type": "code",
   "execution_count": 1,
   "id": "6381c8c2",
   "metadata": {
    "_cell_guid": "b1076dfc-b9ad-4769-8c92-a6c4dae69d19",
    "_uuid": "8f2839f25d086af736a60e9eeb907d3b93b6e0e5",
    "execution": {
     "iopub.execute_input": "2023-05-29T05:34:49.124274Z",
     "iopub.status.busy": "2023-05-29T05:34:49.123525Z",
     "iopub.status.idle": "2023-05-29T05:34:49.134459Z",
     "shell.execute_reply": "2023-05-29T05:34:49.133718Z"
    },
    "papermill": {
     "duration": 0.018185,
     "end_time": "2023-05-29T05:34:49.136612",
     "exception": false,
     "start_time": "2023-05-29T05:34:49.118427",
     "status": "completed"
    },
    "tags": []
   },
   "outputs": [
    {
     "name": "stdout",
     "output_type": "stream",
     "text": [
      "/kaggle/input/math-problem-categorization/sample_submission.csv\n",
      "/kaggle/input/math-problem-categorization/train.csv\n",
      "/kaggle/input/math-problem-categorization/test.csv\n"
     ]
    }
   ],
   "source": [
    "# This Python 3 environment comes with many helpful analytics libraries installed\n",
    "# It is defined by the kaggle/python Docker image: https://github.com/kaggle/docker-python\n",
    "# For example, here's several helpful packages to load\n",
    "\n",
    "import numpy as np # linear algebra\n",
    "import pandas as pd # data processing, CSV file I/O (e.g. pd.read_csv)\n",
    "\n",
    "# Input data files are available in the read-only \"../input/\" directory\n",
    "# For example, running this (by clicking run or pressing Shift+Enter) will list all files under the input directory\n",
    "\n",
    "import os\n",
    "for dirname, _, filenames in os.walk('/kaggle/input'):\n",
    "    for filename in filenames:\n",
    "        print(os.path.join(dirname, filename))\n",
    "\n",
    "# You can write up to 20GB to the current directory (/kaggle/working/) that gets preserved as output when you create a version using \"Save & Run All\" \n",
    "# You can also write temporary files to /kaggle/temp/, but they won't be saved outside of the current session"
   ]
  },
  {
   "cell_type": "code",
   "execution_count": 2,
   "id": "21b24175",
   "metadata": {
    "execution": {
     "iopub.execute_input": "2023-05-29T05:34:49.144851Z",
     "iopub.status.busy": "2023-05-29T05:34:49.144540Z",
     "iopub.status.idle": "2023-05-29T05:34:49.173923Z",
     "shell.execute_reply": "2023-05-29T05:34:49.172282Z"
    },
    "papermill": {
     "duration": 0.036098,
     "end_time": "2023-05-29T05:34:49.176289",
     "exception": false,
     "start_time": "2023-05-29T05:34:49.140191",
     "status": "completed"
    },
    "tags": []
   },
   "outputs": [],
   "source": [
    "dft = pd.read_csv('/kaggle/input/math-problem-categorization/train.csv')\n",
    "dfte = pd.read_csv('/kaggle/input/math-problem-categorization/test.csv')"
   ]
  },
  {
   "cell_type": "code",
   "execution_count": 3,
   "id": "df883644",
   "metadata": {
    "execution": {
     "iopub.execute_input": "2023-05-29T05:34:49.186197Z",
     "iopub.status.busy": "2023-05-29T05:34:49.184700Z",
     "iopub.status.idle": "2023-05-29T05:34:49.205541Z",
     "shell.execute_reply": "2023-05-29T05:34:49.203952Z"
    },
    "papermill": {
     "duration": 0.027716,
     "end_time": "2023-05-29T05:34:49.207908",
     "exception": false,
     "start_time": "2023-05-29T05:34:49.180192",
     "status": "completed"
    },
    "tags": []
   },
   "outputs": [
    {
     "data": {
      "text/plain": [
       "7     19\n",
       "16    11\n",
       "0     10\n",
       "22    10\n",
       "4     10\n",
       "11    10\n",
       "3     10\n",
       "2     10\n",
       "6     10\n",
       "12    10\n",
       "5     10\n",
       "13    10\n",
       "9     10\n",
       "15    10\n",
       "1     10\n",
       "23    10\n",
       "8     10\n",
       "24    10\n",
       "14    10\n",
       "17     9\n",
       "19     9\n",
       "18     8\n",
       "10     8\n",
       "20     8\n",
       "21     8\n",
       "Name: category, dtype: int64"
      ]
     },
     "execution_count": 3,
     "metadata": {},
     "output_type": "execute_result"
    }
   ],
   "source": [
    "dft['category'].value_counts()"
   ]
  },
  {
   "cell_type": "code",
   "execution_count": 4,
   "id": "7f79942d",
   "metadata": {
    "execution": {
     "iopub.execute_input": "2023-05-29T05:34:49.216524Z",
     "iopub.status.busy": "2023-05-29T05:34:49.215959Z",
     "iopub.status.idle": "2023-05-29T05:34:49.226906Z",
     "shell.execute_reply": "2023-05-29T05:34:49.226172Z"
    },
    "papermill": {
     "duration": 0.017888,
     "end_time": "2023-05-29T05:34:49.229292",
     "exception": false,
     "start_time": "2023-05-29T05:34:49.211404",
     "status": "completed"
    },
    "tags": []
   },
   "outputs": [],
   "source": [
    "index_to_delete = dft[dft['category'] == 7].head(9).index\n",
    "dft = dft.drop(index_to_delete)"
   ]
  },
  {
   "cell_type": "code",
   "execution_count": 5,
   "id": "643ed1dc",
   "metadata": {
    "execution": {
     "iopub.execute_input": "2023-05-29T05:34:49.237484Z",
     "iopub.status.busy": "2023-05-29T05:34:49.237086Z",
     "iopub.status.idle": "2023-05-29T05:34:49.245051Z",
     "shell.execute_reply": "2023-05-29T05:34:49.244277Z"
    },
    "papermill": {
     "duration": 0.014027,
     "end_time": "2023-05-29T05:34:49.246836",
     "exception": false,
     "start_time": "2023-05-29T05:34:49.232809",
     "status": "completed"
    },
    "tags": []
   },
   "outputs": [
    {
     "data": {
      "text/plain": [
       "16    11\n",
       "0     10\n",
       "22    10\n",
       "9     10\n",
       "4     10\n",
       "11    10\n",
       "3     10\n",
       "2     10\n",
       "6     10\n",
       "12    10\n",
       "5     10\n",
       "13    10\n",
       "7     10\n",
       "15    10\n",
       "1     10\n",
       "23    10\n",
       "8     10\n",
       "24    10\n",
       "14    10\n",
       "17     9\n",
       "19     9\n",
       "18     8\n",
       "10     8\n",
       "21     8\n",
       "20     8\n",
       "Name: category, dtype: int64"
      ]
     },
     "execution_count": 5,
     "metadata": {},
     "output_type": "execute_result"
    }
   ],
   "source": [
    "dft.category.value_counts()"
   ]
  },
  {
   "cell_type": "code",
   "execution_count": 6,
   "id": "99ae00e8",
   "metadata": {
    "execution": {
     "iopub.execute_input": "2023-05-29T05:34:49.255219Z",
     "iopub.status.busy": "2023-05-29T05:34:49.254802Z",
     "iopub.status.idle": "2023-05-29T05:34:51.750773Z",
     "shell.execute_reply": "2023-05-29T05:34:51.749289Z"
    },
    "papermill": {
     "duration": 2.502917,
     "end_time": "2023-05-29T05:34:51.753226",
     "exception": false,
     "start_time": "2023-05-29T05:34:49.250309",
     "status": "completed"
    },
    "tags": []
   },
   "outputs": [
    {
     "name": "stderr",
     "output_type": "stream",
     "text": [
      "/opt/conda/lib/python3.10/site-packages/scipy/__init__.py:146: UserWarning: A NumPy version >=1.16.5 and <1.23.0 is required for this version of SciPy (detected version 1.23.5\n",
      "  warnings.warn(f\"A NumPy version >={np_minversion} and <{np_maxversion}\"\n"
     ]
    },
    {
     "name": "stdout",
     "output_type": "stream",
     "text": [
      "[nltk_data] Downloading package stopwords to /usr/share/nltk_data...\n",
      "[nltk_data]   Package stopwords is already up-to-date!\n",
      "[nltk_data] Downloading package punkt to /usr/share/nltk_data...\n",
      "[nltk_data]   Package punkt is already up-to-date!\n"
     ]
    }
   ],
   "source": [
    "import nltk\n",
    "from nltk.corpus import stopwords\n",
    "from nltk.tokenize import word_tokenize\n",
    "from nltk.stem import PorterStemmer\n",
    "import string\n",
    "nltk.download('stopwords')\n",
    "nltk.download('punkt')\n",
    "\n",
    "def preprocess_text(text):\n",
    "    text = text.lower()\n",
    "    tokens = word_tokenize(text)\n",
    "    filtered_tokens = [word for word in tokens if word not in string.punctuation]\n",
    "    filtered_tokens = [word for word in filtered_tokens if word.strip() != '']\n",
    "    stemmer = PorterStemmer()\n",
    "    stemmed_tokens = [stemmer.stem(word) for word in filtered_tokens]\n",
    "    return stemmed_tokens\n",
    "\n",
    "dft['stemmed_tokens'] = dft['problem'].apply(preprocess_text)\n",
    "dfte['stemmed_tokens'] = dfte['problem'].apply(preprocess_text)"
   ]
  },
  {
   "cell_type": "code",
   "execution_count": 7,
   "id": "a04cc5d5",
   "metadata": {
    "execution": {
     "iopub.execute_input": "2023-05-29T05:34:51.762989Z",
     "iopub.status.busy": "2023-05-29T05:34:51.761915Z",
     "iopub.status.idle": "2023-05-29T05:35:01.221324Z",
     "shell.execute_reply": "2023-05-29T05:35:01.219930Z"
    },
    "papermill": {
     "duration": 9.466467,
     "end_time": "2023-05-29T05:35:01.223655",
     "exception": false,
     "start_time": "2023-05-29T05:34:51.757188",
     "status": "completed"
    },
    "tags": []
   },
   "outputs": [],
   "source": [
    "from sklearn.model_selection import train_test_split\n",
    "from tensorflow.keras.preprocessing.sequence import pad_sequences\n",
    "from tensorflow.keras.preprocessing.text import Tokenizer\n",
    "\n",
    "tokenizer = Tokenizer(split=' ')\n",
    "tokenizer.fit_on_texts(dft['stemmed_tokens'])\n",
    "X_sequence = tokenizer.texts_to_sequences(dft['stemmed_tokens'])\n",
    "y_sequence = tokenizer.texts_to_sequences(dfte['stemmed_tokens'])\n",
    "y = dft['category']\n",
    "\n",
    "X_train, X_test, y_train, y_test = train_test_split(X_sequence, y, test_size=0.2, random_state=0)"
   ]
  },
  {
   "cell_type": "code",
   "execution_count": 8,
   "id": "ca3a20e0",
   "metadata": {
    "execution": {
     "iopub.execute_input": "2023-05-29T05:35:01.233300Z",
     "iopub.status.busy": "2023-05-29T05:35:01.232562Z",
     "iopub.status.idle": "2023-05-29T05:35:03.421331Z",
     "shell.execute_reply": "2023-05-29T05:35:03.420333Z"
    },
    "papermill": {
     "duration": 2.19586,
     "end_time": "2023-05-29T05:35:03.423339",
     "exception": false,
     "start_time": "2023-05-29T05:35:01.227479",
     "status": "completed"
    },
    "tags": []
   },
   "outputs": [
    {
     "name": "stdout",
     "output_type": "stream",
     "text": [
      "Best maxlen:  130\n",
      "Best accuracy:  0.8163265306122449\n"
     ]
    }
   ],
   "source": [
    "from sklearn.ensemble import RandomForestClassifier\n",
    "from sklearn.metrics import accuracy_score\n",
    "\n",
    "maxlen_values = list(range(50, 151, 10))\n",
    "best_accuracy = 0\n",
    "best_maxlen = None\n",
    "\n",
    "for maxlen in maxlen_values:\n",
    "   \n",
    "    X_train_padded = pad_sequences(X_train, maxlen=maxlen)\n",
    "    X_test_padded = pad_sequences(X_test, maxlen=maxlen)\n",
    "    \n",
    "    model = RandomForestClassifier(random_state=0)\n",
    "    model.fit(X_train_padded, y_train)\n",
    "    \n",
    "    y_pred = model.predict(X_test_padded)\n",
    "    accuracy = accuracy_score(y_pred, y_test)\n",
    "   \n",
    "    if accuracy > best_accuracy:\n",
    "        best_accuracy = accuracy\n",
    "        best_maxlen = maxlen\n",
    "\n",
    "print(\"Best maxlen: \", best_maxlen)\n",
    "print(\"Best accuracy: \", best_accuracy)"
   ]
  },
  {
   "cell_type": "code",
   "execution_count": 9,
   "id": "ec199444",
   "metadata": {
    "execution": {
     "iopub.execute_input": "2023-05-29T05:35:03.432884Z",
     "iopub.status.busy": "2023-05-29T05:35:03.431920Z",
     "iopub.status.idle": "2023-05-29T05:35:03.621636Z",
     "shell.execute_reply": "2023-05-29T05:35:03.620298Z"
    },
    "papermill": {
     "duration": 0.197937,
     "end_time": "2023-05-29T05:35:03.624941",
     "exception": false,
     "start_time": "2023-05-29T05:35:03.427004",
     "status": "completed"
    },
    "tags": []
   },
   "outputs": [
    {
     "data": {
      "text/html": [
       "<style>#sk-container-id-1 {color: black;background-color: white;}#sk-container-id-1 pre{padding: 0;}#sk-container-id-1 div.sk-toggleable {background-color: white;}#sk-container-id-1 label.sk-toggleable__label {cursor: pointer;display: block;width: 100%;margin-bottom: 0;padding: 0.3em;box-sizing: border-box;text-align: center;}#sk-container-id-1 label.sk-toggleable__label-arrow:before {content: \"▸\";float: left;margin-right: 0.25em;color: #696969;}#sk-container-id-1 label.sk-toggleable__label-arrow:hover:before {color: black;}#sk-container-id-1 div.sk-estimator:hover label.sk-toggleable__label-arrow:before {color: black;}#sk-container-id-1 div.sk-toggleable__content {max-height: 0;max-width: 0;overflow: hidden;text-align: left;background-color: #f0f8ff;}#sk-container-id-1 div.sk-toggleable__content pre {margin: 0.2em;color: black;border-radius: 0.25em;background-color: #f0f8ff;}#sk-container-id-1 input.sk-toggleable__control:checked~div.sk-toggleable__content {max-height: 200px;max-width: 100%;overflow: auto;}#sk-container-id-1 input.sk-toggleable__control:checked~label.sk-toggleable__label-arrow:before {content: \"▾\";}#sk-container-id-1 div.sk-estimator input.sk-toggleable__control:checked~label.sk-toggleable__label {background-color: #d4ebff;}#sk-container-id-1 div.sk-label input.sk-toggleable__control:checked~label.sk-toggleable__label {background-color: #d4ebff;}#sk-container-id-1 input.sk-hidden--visually {border: 0;clip: rect(1px 1px 1px 1px);clip: rect(1px, 1px, 1px, 1px);height: 1px;margin: -1px;overflow: hidden;padding: 0;position: absolute;width: 1px;}#sk-container-id-1 div.sk-estimator {font-family: monospace;background-color: #f0f8ff;border: 1px dotted black;border-radius: 0.25em;box-sizing: border-box;margin-bottom: 0.5em;}#sk-container-id-1 div.sk-estimator:hover {background-color: #d4ebff;}#sk-container-id-1 div.sk-parallel-item::after {content: \"\";width: 100%;border-bottom: 1px solid gray;flex-grow: 1;}#sk-container-id-1 div.sk-label:hover label.sk-toggleable__label {background-color: #d4ebff;}#sk-container-id-1 div.sk-serial::before {content: \"\";position: absolute;border-left: 1px solid gray;box-sizing: border-box;top: 0;bottom: 0;left: 50%;z-index: 0;}#sk-container-id-1 div.sk-serial {display: flex;flex-direction: column;align-items: center;background-color: white;padding-right: 0.2em;padding-left: 0.2em;position: relative;}#sk-container-id-1 div.sk-item {position: relative;z-index: 1;}#sk-container-id-1 div.sk-parallel {display: flex;align-items: stretch;justify-content: center;background-color: white;position: relative;}#sk-container-id-1 div.sk-item::before, #sk-container-id-1 div.sk-parallel-item::before {content: \"\";position: absolute;border-left: 1px solid gray;box-sizing: border-box;top: 0;bottom: 0;left: 50%;z-index: -1;}#sk-container-id-1 div.sk-parallel-item {display: flex;flex-direction: column;z-index: 1;position: relative;background-color: white;}#sk-container-id-1 div.sk-parallel-item:first-child::after {align-self: flex-end;width: 50%;}#sk-container-id-1 div.sk-parallel-item:last-child::after {align-self: flex-start;width: 50%;}#sk-container-id-1 div.sk-parallel-item:only-child::after {width: 0;}#sk-container-id-1 div.sk-dashed-wrapped {border: 1px dashed gray;margin: 0 0.4em 0.5em 0.4em;box-sizing: border-box;padding-bottom: 0.4em;background-color: white;}#sk-container-id-1 div.sk-label label {font-family: monospace;font-weight: bold;display: inline-block;line-height: 1.2em;}#sk-container-id-1 div.sk-label-container {text-align: center;}#sk-container-id-1 div.sk-container {/* jupyter's `normalize.less` sets `[hidden] { display: none; }` but bootstrap.min.css set `[hidden] { display: none !important; }` so we also need the `!important` here to be able to override the default hidden behavior on the sphinx rendered scikit-learn.org. See: https://github.com/scikit-learn/scikit-learn/issues/21755 */display: inline-block !important;position: relative;}#sk-container-id-1 div.sk-text-repr-fallback {display: none;}</style><div id=\"sk-container-id-1\" class=\"sk-top-container\"><div class=\"sk-text-repr-fallback\"><pre>RandomForestClassifier(random_state=0)</pre><b>In a Jupyter environment, please rerun this cell to show the HTML representation or trust the notebook. <br />On GitHub, the HTML representation is unable to render, please try loading this page with nbviewer.org.</b></div><div class=\"sk-container\" hidden><div class=\"sk-item\"><div class=\"sk-estimator sk-toggleable\"><input class=\"sk-toggleable__control sk-hidden--visually\" id=\"sk-estimator-id-1\" type=\"checkbox\" checked><label for=\"sk-estimator-id-1\" class=\"sk-toggleable__label sk-toggleable__label-arrow\">RandomForestClassifier</label><div class=\"sk-toggleable__content\"><pre>RandomForestClassifier(random_state=0)</pre></div></div></div></div></div>"
      ],
      "text/plain": [
       "RandomForestClassifier(random_state=0)"
      ]
     },
     "execution_count": 9,
     "metadata": {},
     "output_type": "execute_result"
    }
   ],
   "source": [
    "X_padded = pad_sequences(X_sequence, maxlen=best_maxlen)\n",
    "test_paded = pad_sequences(y_sequence, maxlen=best_maxlen)\n",
    "model = RandomForestClassifier(n_estimators=100, random_state=0)\n",
    "model.fit(X_padded, y)"
   ]
  },
  {
   "cell_type": "code",
   "execution_count": 10,
   "id": "a63d615e",
   "metadata": {
    "execution": {
     "iopub.execute_input": "2023-05-29T05:35:03.635342Z",
     "iopub.status.busy": "2023-05-29T05:35:03.634774Z",
     "iopub.status.idle": "2023-05-29T05:35:03.673040Z",
     "shell.execute_reply": "2023-05-29T05:35:03.671608Z"
    },
    "papermill": {
     "duration": 0.046309,
     "end_time": "2023-05-29T05:35:03.675840",
     "exception": false,
     "start_time": "2023-05-29T05:35:03.629531",
     "status": "completed"
    },
    "tags": []
   },
   "outputs": [],
   "source": [
    "y_pred = model.predict(test_paded)\n",
    "submission = pd.read_csv('/kaggle/input/math-problem-categorization/sample_submission.csv')\n",
    "submission.category = y_pred\n",
    "submission.to_csv('submission.csv', index=False)"
   ]
  },
  {
   "cell_type": "code",
   "execution_count": 11,
   "id": "27447d3d",
   "metadata": {
    "execution": {
     "iopub.execute_input": "2023-05-29T05:35:03.686033Z",
     "iopub.status.busy": "2023-05-29T05:35:03.684976Z",
     "iopub.status.idle": "2023-05-29T05:35:03.693813Z",
     "shell.execute_reply": "2023-05-29T05:35:03.692709Z"
    },
    "papermill": {
     "duration": 0.015717,
     "end_time": "2023-05-29T05:35:03.695679",
     "exception": false,
     "start_time": "2023-05-29T05:35:03.679962",
     "status": "completed"
    },
    "tags": []
   },
   "outputs": [
    {
     "data": {
      "text/plain": [
       "24"
      ]
     },
     "execution_count": 11,
     "metadata": {},
     "output_type": "execute_result"
    }
   ],
   "source": [
    "len(submission.category.unique())"
   ]
  },
  {
   "cell_type": "code",
   "execution_count": 12,
   "id": "d0af7a43",
   "metadata": {
    "execution": {
     "iopub.execute_input": "2023-05-29T05:35:03.705658Z",
     "iopub.status.busy": "2023-05-29T05:35:03.705258Z",
     "iopub.status.idle": "2023-05-29T05:35:03.714814Z",
     "shell.execute_reply": "2023-05-29T05:35:03.713416Z"
    },
    "papermill": {
     "duration": 0.016973,
     "end_time": "2023-05-29T05:35:03.716907",
     "exception": false,
     "start_time": "2023-05-29T05:35:03.699934",
     "status": "completed"
    },
    "tags": []
   },
   "outputs": [
    {
     "data": {
      "text/plain": [
       "3     21\n",
       "14    11\n",
       "23     9\n",
       "5      8\n",
       "2      7\n",
       "16     7\n",
       "17     6\n",
       "12     6\n",
       "10     6\n",
       "1      6\n",
       "11     5\n",
       "8      5\n",
       "21     5\n",
       "24     4\n",
       "22     4\n",
       "7      3\n",
       "19     3\n",
       "18     2\n",
       "9      2\n",
       "20     1\n",
       "6      1\n",
       "15     1\n",
       "4      1\n",
       "0      1\n",
       "Name: category, dtype: int64"
      ]
     },
     "execution_count": 12,
     "metadata": {},
     "output_type": "execute_result"
    }
   ],
   "source": [
    "submission.category.value_counts()"
   ]
  }
 ],
 "metadata": {
  "kernelspec": {
   "display_name": "Python 3",
   "language": "python",
   "name": "python3"
  },
  "language_info": {
   "codemirror_mode": {
    "name": "ipython",
    "version": 3
   },
   "file_extension": ".py",
   "mimetype": "text/x-python",
   "name": "python",
   "nbconvert_exporter": "python",
   "pygments_lexer": "ipython3",
   "version": "3.10.10"
  },
  "papermill": {
   "default_parameters": {},
   "duration": 29.091186,
   "end_time": "2023-05-29T05:35:06.579073",
   "environment_variables": {},
   "exception": null,
   "input_path": "__notebook__.ipynb",
   "output_path": "__notebook__.ipynb",
   "parameters": {},
   "start_time": "2023-05-29T05:34:37.487887",
   "version": "2.4.0"
  }
 },
 "nbformat": 4,
 "nbformat_minor": 5
}
