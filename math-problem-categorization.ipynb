{
 "cells": [
  {
   "cell_type": "code",
   "execution_count": 1,
   "id": "4f6b9ae8",
   "metadata": {
    "_cell_guid": "b1076dfc-b9ad-4769-8c92-a6c4dae69d19",
    "_uuid": "8f2839f25d086af736a60e9eeb907d3b93b6e0e5",
    "execution": {
     "iopub.execute_input": "2023-05-23T08:51:03.509407Z",
     "iopub.status.busy": "2023-05-23T08:51:03.508817Z",
     "iopub.status.idle": "2023-05-23T08:51:03.524564Z",
     "shell.execute_reply": "2023-05-23T08:51:03.523381Z"
    },
    "papermill": {
     "duration": 0.026897,
     "end_time": "2023-05-23T08:51:03.527415",
     "exception": false,
     "start_time": "2023-05-23T08:51:03.500518",
     "status": "completed"
    },
    "tags": []
   },
   "outputs": [
    {
     "name": "stdout",
     "output_type": "stream",
     "text": [
      "/kaggle/input/math-problem-categorization/sample_submission.csv\n",
      "/kaggle/input/math-problem-categorization/train.csv\n",
      "/kaggle/input/math-problem-categorization/test.csv\n"
     ]
    }
   ],
   "source": [
    "# This Python 3 environment comes with many helpful analytics libraries installed\n",
    "# It is defined by the kaggle/python Docker image: https://github.com/kaggle/docker-python\n",
    "# For example, here's several helpful packages to load\n",
    "\n",
    "import numpy as np # linear algebra\n",
    "import pandas as pd # data processing, CSV file I/O (e.g. pd.read_csv)\n",
    "\n",
    "# Input data files are available in the read-only \"../input/\" directory\n",
    "# For example, running this (by clicking run or pressing Shift+Enter) will list all files under the input directory\n",
    "\n",
    "import os\n",
    "for dirname, _, filenames in os.walk('/kaggle/input'):\n",
    "    for filename in filenames:\n",
    "        print(os.path.join(dirname, filename))\n",
    "\n",
    "# You can write up to 20GB to the current directory (/kaggle/working/) that gets preserved as output when you create a version using \"Save & Run All\" \n",
    "# You can also write temporary files to /kaggle/temp/, but they won't be saved outside of the current session"
   ]
  },
  {
   "cell_type": "code",
   "execution_count": 2,
   "id": "862ca797",
   "metadata": {
    "execution": {
     "iopub.execute_input": "2023-05-23T08:51:03.542382Z",
     "iopub.status.busy": "2023-05-23T08:51:03.541184Z",
     "iopub.status.idle": "2023-05-23T08:51:03.582880Z",
     "shell.execute_reply": "2023-05-23T08:51:03.581903Z"
    },
    "papermill": {
     "duration": 0.051449,
     "end_time": "2023-05-23T08:51:03.585219",
     "exception": false,
     "start_time": "2023-05-23T08:51:03.533770",
     "status": "completed"
    },
    "tags": []
   },
   "outputs": [
    {
     "name": "stdout",
     "output_type": "stream",
     "text": [
      "Category: 25\n"
     ]
    }
   ],
   "source": [
    "train_data = pd.read_csv('/kaggle/input/math-problem-categorization/train.csv')\n",
    "print('Category:', len(train_data.category.unique()))\n",
    "test_data = pd.read_csv('/kaggle/input/math-problem-categorization/test.csv')"
   ]
  },
  {
   "cell_type": "code",
   "execution_count": 3,
   "id": "173234e8",
   "metadata": {
    "execution": {
     "iopub.execute_input": "2023-05-23T08:51:03.600169Z",
     "iopub.status.busy": "2023-05-23T08:51:03.599391Z",
     "iopub.status.idle": "2023-05-23T08:51:03.625453Z",
     "shell.execute_reply": "2023-05-23T08:51:03.624048Z"
    },
    "papermill": {
     "duration": 0.036703,
     "end_time": "2023-05-23T08:51:03.628289",
     "exception": false,
     "start_time": "2023-05-23T08:51:03.591586",
     "status": "completed"
    },
    "tags": []
   },
   "outputs": [
    {
     "data": {
      "text/html": [
       "<div>\n",
       "<style scoped>\n",
       "    .dataframe tbody tr th:only-of-type {\n",
       "        vertical-align: middle;\n",
       "    }\n",
       "\n",
       "    .dataframe tbody tr th {\n",
       "        vertical-align: top;\n",
       "    }\n",
       "\n",
       "    .dataframe thead th {\n",
       "        text-align: right;\n",
       "    }\n",
       "</style>\n",
       "<table border=\"1\" class=\"dataframe\">\n",
       "  <thead>\n",
       "    <tr style=\"text-align: right;\">\n",
       "      <th></th>\n",
       "      <th>problem</th>\n",
       "      <th>category</th>\n",
       "    </tr>\n",
       "  </thead>\n",
       "  <tbody>\n",
       "    <tr>\n",
       "      <th>0</th>\n",
       "      <td>At a ring toss game at a carnival, Marco throws `8` rings. Some of the rings are worth `5` points, and some are worth `10` points. Marco scores a total of `70` points. How many `5`-point rings and `10`-point rings did Marco toss?</td>\n",
       "      <td>19</td>\n",
       "    </tr>\n",
       "    <tr>\n",
       "      <th>1</th>\n",
       "      <td>What is `471 ÷ 100`? Interactive: Students follow steps to create an exploratory area model.</td>\n",
       "      <td>22</td>\n",
       "    </tr>\n",
       "    <tr>\n",
       "      <th>2</th>\n",
       "      <td>Follow the directions below to create an equivalent fraction for `1/2` with a denominator of `4`.\\n Interactive: Students follow steps to create an exploratory area model.</td>\n",
       "      <td>20</td>\n",
       "    </tr>\n",
       "    <tr>\n",
       "      <th>3</th>\n",
       "      <td>Solve the following system by substitution:\\n`y=-7x+6`\\n`10x+y=0`</td>\n",
       "      <td>14</td>\n",
       "    </tr>\n",
       "    <tr>\n",
       "      <th>4</th>\n",
       "      <td>Solve the following system by substitution:\\n`-8x+y=0`\\n`y=4x+8`</td>\n",
       "      <td>14</td>\n",
       "    </tr>\n",
       "  </tbody>\n",
       "</table>\n",
       "</div>"
      ],
      "text/plain": [
       "                                                                                                                                                                                                                                 problem  \\\n",
       "0  At a ring toss game at a carnival, Marco throws `8` rings. Some of the rings are worth `5` points, and some are worth `10` points. Marco scores a total of `70` points. How many `5`-point rings and `10`-point rings did Marco toss?   \n",
       "1                                                                                                                                          What is `471 ÷ 100`? Interactive: Students follow steps to create an exploratory area model.    \n",
       "2                                                           Follow the directions below to create an equivalent fraction for `1/2` with a denominator of `4`.\\n Interactive: Students follow steps to create an exploratory area model.    \n",
       "3                                                                                                                                                                      Solve the following system by substitution:\\n`y=-7x+6`\\n`10x+y=0`   \n",
       "4                                                                                                                                                                       Solve the following system by substitution:\\n`-8x+y=0`\\n`y=4x+8`   \n",
       "\n",
       "   category  \n",
       "0        19  \n",
       "1        22  \n",
       "2        20  \n",
       "3        14  \n",
       "4        14  "
      ]
     },
     "execution_count": 3,
     "metadata": {},
     "output_type": "execute_result"
    }
   ],
   "source": [
    "#display limits\n",
    "pd.set_option('display.max_colwidth', None)\n",
    "train_data.head()"
   ]
  },
  {
   "cell_type": "code",
   "execution_count": 4,
   "id": "1a586fa9",
   "metadata": {
    "execution": {
     "iopub.execute_input": "2023-05-23T08:51:03.643228Z",
     "iopub.status.busy": "2023-05-23T08:51:03.642842Z",
     "iopub.status.idle": "2023-05-23T08:51:03.649879Z",
     "shell.execute_reply": "2023-05-23T08:51:03.649015Z"
    },
    "papermill": {
     "duration": 0.017003,
     "end_time": "2023-05-23T08:51:03.652015",
     "exception": false,
     "start_time": "2023-05-23T08:51:03.635012",
     "status": "completed"
    },
    "tags": []
   },
   "outputs": [
    {
     "data": {
      "text/plain": [
       "dtype('int64')"
      ]
     },
     "execution_count": 4,
     "metadata": {},
     "output_type": "execute_result"
    }
   ],
   "source": [
    "train_data.category.dtypes"
   ]
  },
  {
   "cell_type": "code",
   "execution_count": 5,
   "id": "79c56085",
   "metadata": {
    "execution": {
     "iopub.execute_input": "2023-05-23T08:51:03.667509Z",
     "iopub.status.busy": "2023-05-23T08:51:03.666718Z",
     "iopub.status.idle": "2023-05-23T08:51:03.673569Z",
     "shell.execute_reply": "2023-05-23T08:51:03.672107Z"
    },
    "papermill": {
     "duration": 0.017141,
     "end_time": "2023-05-23T08:51:03.675788",
     "exception": false,
     "start_time": "2023-05-23T08:51:03.658647",
     "status": "completed"
    },
    "tags": []
   },
   "outputs": [
    {
     "name": "stdout",
     "output_type": "stream",
     "text": [
      "traing_data: 250\n",
      "test_data: 125\n"
     ]
    }
   ],
   "source": [
    "print('traing_data:', len(train_data))\n",
    "print('test_data:', len(test_data))"
   ]
  },
  {
   "cell_type": "code",
   "execution_count": 6,
   "id": "6da73dd7",
   "metadata": {
    "execution": {
     "iopub.execute_input": "2023-05-23T08:51:03.692077Z",
     "iopub.status.busy": "2023-05-23T08:51:03.690941Z",
     "iopub.status.idle": "2023-05-23T08:51:03.744047Z",
     "shell.execute_reply": "2023-05-23T08:51:03.742837Z"
    },
    "papermill": {
     "duration": 0.06435,
     "end_time": "2023-05-23T08:51:03.747218",
     "exception": false,
     "start_time": "2023-05-23T08:51:03.682868",
     "status": "completed"
    },
    "tags": []
   },
   "outputs": [
    {
     "name": "stdout",
     "output_type": "stream",
     "text": [
      "                                                                                                       problem  \\\n",
      "17  Identify the terms, coefficients, variables, and constants in the following expression:\\n`4m + 5 + 2n + 3`   \n",
      "\n",
      "    category  \n",
      "17         0  \n",
      "                                                            problem  category\n",
      "14  Write an expression to match the phrase: \"`n` increased by `8`\"         1\n",
      "                                                                                      problem  \\\n",
      "32  Write an expression to match the phrase:\\n''`6` is added to the result of `9` times `d`''   \n",
      "\n",
      "    category  \n",
      "32         2  \n",
      "                                                                                                problem  \\\n",
      "38  Write an algebraic expression to match the phrase below.\\n\"Increase `d` by `7`, then divide by `5`\"   \n",
      "\n",
      "    category  \n",
      "38         3  \n",
      "                                                                                   problem  \\\n",
      "57  Write an expression to match the phrase:\"seven-eighths of `n` is subtracted from `18`\"   \n",
      "\n",
      "    category  \n",
      "57         4  \n",
      "                                                          problem  category\n",
      "21  Write an expression to match the phrase:\"`n` cubed minus `3`\"         5\n",
      "                                                          problem  category\n",
      "24  Write an equation to match the phrase:\"`b` times `3` is `27`\"         6\n",
      "                                                                                                                                                                                                              problem  \\\n",
      "31  A housepainter bought `16` gallons of paint. The paint comes in `5`-gallon and `1`-gallon cans. The housepainter bought a total of `4` cans.How many `5`-gallon and `1`-gallon cans of paint did the painter buy?   \n",
      "\n",
      "    category  \n",
      "31         7  \n",
      "                                                                                                                                                                       problem  \\\n",
      "8  Paxton had `m` marbles. He was cleaning his room and found `17` marbles under his bed. How many total marbles does Paxton now have?  Write an expression with `m` and `17`.   \n",
      "\n",
      "   category  \n",
      "8         8  \n",
      "                                                                                                                                                                                                                                                      problem  \\\n",
      "113  Brenda had `c` coins in her pocket. Unfortunately, she has a hole in her pocket and `8` coins fell out while she was walking to school.  How many coins does Brenda have left in her pocket after some fell out?  Write an expression using `c` and `8`.   \n",
      "\n",
      "     category  \n",
      "113         9  \n",
      "                                                                                                                                                                                                                  problem  \\\n",
      "6  Olivia went to a beauty store to buy `p` bottles of nail polish. Each bottle of nail polish costs `$9.50`. How much will she spend in total for the bottles of nail polish? Write an expression using `p` and `9.50`.    \n",
      "\n",
      "   category  \n",
      "6        10  \n",
      "                                                                                                                                                                                    problem  \\\n",
      "42  Determine the number of solutions for the following system of equations:\\n`y = -x - 2`\\n`y = 2x - 8`\\nNumber of solutions\\nNo solution\\nExactly one solution\\nInfinitely many solutions   \n",
      "\n",
      "    category  \n",
      "42        11  \n",
      "                                                                     problem  \\\n",
      "23  Solve the following system by elimination:\\n`-2x-2y = 4`\\n`2x + 4y = -8`   \n",
      "\n",
      "    category  \n",
      "23        12  \n",
      "                                                                  problem  \\\n",
      "18  Solve the following system by substitution:\\n`y = -4x - 4`\\n`y = -8x`   \n",
      "\n",
      "    category  \n",
      "18        13  \n",
      "                                                             problem  category\n",
      "3  Solve the following system by substitution:\\n`y=-7x+6`\\n`10x+y=0`        14\n",
      "                                                       problem  category\n",
      "16  Solve the system of equations:\\n`y = x - 5`\\n`y = -2x - 2`        15\n",
      "                                                                                                                                                                                                                                                                                                                         problem  \\\n",
      "11  Violet and Eri are taking surf lessons. Violet pays `$20` for her lesson and `$15` per hour to rent the surfboard. Eri pays `$35` for her lesson and `$10` per hour to rent the surfboard. Write two equations in slope-intercept form to represent each person's total cost `(y)`, in terms of the number of hours `(x)`.\\n   \n",
      "\n",
      "    category  \n",
      "11        16  \n",
      "                                                                                                                                                                                                                                                                                            problem  \\\n",
      "39  A bakery buys flour in `20`-pound and `50`-pound bags. During one week, they used `10.5` bags of flour, which is a total of `345` pounds. Write a system of equations to find the number of `20`-pound bags `(x)` and the number of `50`-pound bags `(y)` that the bakery used during the week.   \n",
      "\n",
      "    category  \n",
      "39        17  \n",
      "                                                                                                                                                                                                                                                            problem  \\\n",
      "12  Violet and Eri are taking surf lessons. Violet pays `$20` for her lesson and `$15` per hour to rent the surfboard. Eri pays `$35` for her lesson and `$10` per hour to rent the surfboard. After how many hours will Violet and Eri have spent the same amount?   \n",
      "\n",
      "    category  \n",
      "12        18  \n",
      "                                                                                                                                                                                                                                 problem  \\\n",
      "0  At a ring toss game at a carnival, Marco throws `8` rings. Some of the rings are worth `5` points, and some are worth `10` points. Marco scores a total of `70` points. How many `5`-point rings and `10`-point rings did Marco toss?   \n",
      "\n",
      "   category  \n",
      "0        19  \n",
      "                                                                                                                                                                        problem  \\\n",
      "2  Follow the directions below to create an equivalent fraction for `1/2` with a denominator of `4`.\\n Interactive: Students follow steps to create an exploratory area model.    \n",
      "\n",
      "   category  \n",
      "2        20  \n",
      "                                                                                   problem  \\\n",
      "79  A theater has `80` seats. If `4/5` of the seats are filled, how many seats are filled?   \n",
      "\n",
      "    category  \n",
      "79        21  \n",
      "                                                                                         problem  \\\n",
      "1  What is `471 ÷ 100`? Interactive: Students follow steps to create an exploratory area model.    \n",
      "\n",
      "   category  \n",
      "1        22  \n",
      "                              problem  category\n",
      "9  Estimate the product:\\n`1.9 × 7.8`        23\n",
      "                                problem  category\n",
      "5  Estimate the quotient:\\n`11.8 ÷ 3.1`        24\n"
     ]
    }
   ],
   "source": [
    "for i in range(25):\n",
    "    print(train_data[train_data['category']==i].head(1))"
   ]
  },
  {
   "cell_type": "code",
   "execution_count": 7,
   "id": "34bc6975",
   "metadata": {
    "execution": {
     "iopub.execute_input": "2023-05-23T08:51:03.763914Z",
     "iopub.status.busy": "2023-05-23T08:51:03.762915Z",
     "iopub.status.idle": "2023-05-23T08:51:03.768843Z",
     "shell.execute_reply": "2023-05-23T08:51:03.767577Z"
    },
    "papermill": {
     "duration": 0.016958,
     "end_time": "2023-05-23T08:51:03.771288",
     "exception": false,
     "start_time": "2023-05-23T08:51:03.754330",
     "status": "completed"
    },
    "tags": []
   },
   "outputs": [],
   "source": [
    "train_data_X = train_data.problem\n",
    "test_data_X = test_data.problem"
   ]
  },
  {
   "cell_type": "code",
   "execution_count": 8,
   "id": "5eea2f1d",
   "metadata": {
    "execution": {
     "iopub.execute_input": "2023-05-23T08:51:03.787611Z",
     "iopub.status.busy": "2023-05-23T08:51:03.787188Z",
     "iopub.status.idle": "2023-05-23T08:51:06.412655Z",
     "shell.execute_reply": "2023-05-23T08:51:06.411354Z"
    },
    "papermill": {
     "duration": 2.636845,
     "end_time": "2023-05-23T08:51:06.415271",
     "exception": false,
     "start_time": "2023-05-23T08:51:03.778426",
     "status": "completed"
    },
    "tags": []
   },
   "outputs": [
    {
     "name": "stderr",
     "output_type": "stream",
     "text": [
      "/opt/conda/lib/python3.10/site-packages/scipy/__init__.py:146: UserWarning: A NumPy version >=1.16.5 and <1.23.0 is required for this version of SciPy (detected version 1.23.5\n",
      "  warnings.warn(f\"A NumPy version >={np_minversion} and <{np_maxversion}\"\n"
     ]
    },
    {
     "name": "stdout",
     "output_type": "stream",
     "text": [
      "[nltk_data] Downloading package stopwords to /usr/share/nltk_data...\n",
      "[nltk_data]   Package stopwords is already up-to-date!\n",
      "[nltk_data] Downloading package punkt to /usr/share/nltk_data...\n",
      "[nltk_data]   Package punkt is already up-to-date!\n"
     ]
    },
    {
     "data": {
      "text/plain": [
       "1                                                                                                               [what, `471, ÷, 100`, interact, student, follow, step, creat, exploratori, area, model]\n",
       "1    [p, mr, o'har, bought, `18`, pack, pencil, give, student, classroom, there, `p`, pencil, pack, /p, p, how, mani, total, pencil, mrs., o'har, buy, give, class, write, express, use, `18`, `p`, /p]\n",
       "Name: problem, dtype: object"
      ]
     },
     "execution_count": 8,
     "metadata": {},
     "output_type": "execute_result"
    }
   ],
   "source": [
    "X = pd.concat([train_data_X, test_data_X])\n",
    "import nltk\n",
    "from nltk.corpus import stopwords\n",
    "from nltk.tokenize import word_tokenize\n",
    "from nltk.stem import PorterStemmer\n",
    "import string\n",
    "\n",
    "#download stopwords dict \n",
    "nltk.download('stopwords')\n",
    "nltk.download('punkt')\n",
    "text = X\n",
    "text.lower = text.apply(lambda x: x.lower())\n",
    "stop_words = set(stopwords.words('english'))\n",
    "\n",
    "#split to sigle words\n",
    "tokens = text.apply(lambda x: word_tokenize(x))\n",
    "\n",
    "filtered_tokens = tokens.apply(lambda x: [word for word in x if word not in stop_words])\n",
    "filtered_tokens = filtered_tokens.apply(lambda x: [word for word in x if word not in string.punctuation])\n",
    "filtered_tokens = filtered_tokens.apply(lambda x: [word for word in x if word.strip() != ''])\n",
    "\n",
    "#stemming\n",
    "stemmer = PorterStemmer()\n",
    "stemmed_tokens = filtered_tokens.apply(lambda x: [stemmer.stem(word) for word in x])\n",
    "stemmed_tokens[1]"
   ]
  },
  {
   "cell_type": "code",
   "execution_count": 9,
   "id": "dfca22f2",
   "metadata": {
    "execution": {
     "iopub.execute_input": "2023-05-23T08:51:06.431728Z",
     "iopub.status.busy": "2023-05-23T08:51:06.431269Z",
     "iopub.status.idle": "2023-05-23T08:51:16.082141Z",
     "shell.execute_reply": "2023-05-23T08:51:16.080772Z"
    },
    "papermill": {
     "duration": 9.662721,
     "end_time": "2023-05-23T08:51:16.085261",
     "exception": false,
     "start_time": "2023-05-23T08:51:06.422540",
     "status": "completed"
    },
    "tags": []
   },
   "outputs": [],
   "source": [
    "import tensorflow as tf\n",
    "from tensorflow.keras.preprocessing.sequence import pad_sequences\n",
    "from tensorflow.keras.preprocessing.text import Tokenizer\n",
    "from tensorflow.keras.utils import to_categorical\n",
    "max_features=3000\n",
    "tokenizer=Tokenizer(num_words=max_features,split=' ')\n",
    "tokenizer.fit_on_texts(stemmed_tokens)\n",
    "X_sequence = tokenizer.texts_to_sequences(stemmed_tokens)\n",
    "X_paded = pad_sequences(X_sequence)\n",
    "X_paded\n",
    "y = train_data.category"
   ]
  },
  {
   "cell_type": "code",
   "execution_count": 10,
   "id": "8bbc5b9b",
   "metadata": {
    "execution": {
     "iopub.execute_input": "2023-05-23T08:51:16.103130Z",
     "iopub.status.busy": "2023-05-23T08:51:16.101522Z",
     "iopub.status.idle": "2023-05-23T08:51:16.114875Z",
     "shell.execute_reply": "2023-05-23T08:51:16.113973Z"
    },
    "papermill": {
     "duration": 0.024675,
     "end_time": "2023-05-23T08:51:16.117406",
     "exception": false,
     "start_time": "2023-05-23T08:51:16.092731",
     "status": "completed"
    },
    "tags": []
   },
   "outputs": [
    {
     "name": "stdout",
     "output_type": "stream",
     "text": [
      "(200, 60)\n",
      "(200,)\n"
     ]
    }
   ],
   "source": [
    "train_data = X_paded[:250]\n",
    "test_data = X_paded[250:]\n",
    "from sklearn.metrics import accuracy_score\n",
    "from sklearn.model_selection import train_test_split\n",
    "X_train, X_test, y_train, y_test = train_test_split(train_data, y, train_size=0.8, random_state=0)\n",
    "print(X_train.shape)\n",
    "print(y_train.shape)"
   ]
  },
  {
   "cell_type": "code",
   "execution_count": 11,
   "id": "713d3be0",
   "metadata": {
    "execution": {
     "iopub.execute_input": "2023-05-23T08:51:16.134668Z",
     "iopub.status.busy": "2023-05-23T08:51:16.133618Z",
     "iopub.status.idle": "2023-05-23T08:51:16.461359Z",
     "shell.execute_reply": "2023-05-23T08:51:16.460203Z"
    },
    "papermill": {
     "duration": 0.339641,
     "end_time": "2023-05-23T08:51:16.464455",
     "exception": false,
     "start_time": "2023-05-23T08:51:16.124814",
     "status": "completed"
    },
    "tags": []
   },
   "outputs": [],
   "source": [
    "from sklearn.ensemble import RandomForestClassifier, AdaBoostClassifier, GradientBoostingClassifier\n",
    "from sklearn.tree import DecisionTreeClassifier\n",
    "from sklearn.svm import LinearSVC\n",
    "import tensorflow as tf\n",
    "from tensorflow.keras import optimizers\n",
    "from tensorflow.keras.models import Sequential\n",
    "from tensorflow.keras.losses import CategoricalCrossentropy\n",
    "from tensorflow.keras.layers import LSTM, Dropout,Dense,Embedding\n",
    "RandomForest = RandomForestClassifier(random_state=0)\n",
    "AdaBoost = AdaBoostClassifier(random_state=0)\n",
    "GradientBoosting = GradientBoostingClassifier(random_state=0)\n",
    "SVM = LinearSVC(random_state=0)\n",
    "models = [RandomForest, AdaBoost, SVM]"
   ]
  },
  {
   "cell_type": "code",
   "execution_count": 12,
   "id": "6e8ca7fa",
   "metadata": {
    "execution": {
     "iopub.execute_input": "2023-05-23T08:51:16.481231Z",
     "iopub.status.busy": "2023-05-23T08:51:16.480818Z",
     "iopub.status.idle": "2023-05-23T08:51:16.980539Z",
     "shell.execute_reply": "2023-05-23T08:51:16.979110Z"
    },
    "papermill": {
     "duration": 0.511287,
     "end_time": "2023-05-23T08:51:16.983222",
     "exception": false,
     "start_time": "2023-05-23T08:51:16.471935",
     "status": "completed"
    },
    "tags": []
   },
   "outputs": [
    {
     "name": "stdout",
     "output_type": "stream",
     "text": [
      "RandomForestClassifier(random_state=0) Accuarcy 0.82\n",
      "AdaBoostClassifier(random_state=0) Accuarcy 0.12\n",
      "LinearSVC(random_state=0) Accuarcy 0.3\n"
     ]
    },
    {
     "name": "stderr",
     "output_type": "stream",
     "text": [
      "/opt/conda/lib/python3.10/site-packages/sklearn/svm/_base.py:1244: ConvergenceWarning: Liblinear failed to converge, increase the number of iterations.\n",
      "  warnings.warn(\n"
     ]
    }
   ],
   "source": [
    "def accuracy(model):\n",
    "    for model in models:\n",
    "        model.fit(X_train, y_train)\n",
    "        pred = model.predict(X_test)\n",
    "        print('%s Accuarcy' %model, accuracy_score(pred, y_test))\n",
    "accuracy(models)"
   ]
  },
  {
   "cell_type": "code",
   "execution_count": 13,
   "id": "8306b57b",
   "metadata": {
    "execution": {
     "iopub.execute_input": "2023-05-23T08:51:17.001240Z",
     "iopub.status.busy": "2023-05-23T08:51:17.000812Z",
     "iopub.status.idle": "2023-05-23T08:51:32.827835Z",
     "shell.execute_reply": "2023-05-23T08:51:32.826399Z"
    },
    "papermill": {
     "duration": 15.839517,
     "end_time": "2023-05-23T08:51:32.830603",
     "exception": false,
     "start_time": "2023-05-23T08:51:16.991086",
     "status": "completed"
    },
    "tags": []
   },
   "outputs": [
    {
     "name": "stdout",
     "output_type": "stream",
     "text": [
      "Epoch 1/10\n",
      "7/7 [==============================] - 7s 293ms/step - loss: 3.2140 - accuracy: 0.0650 - val_loss: 3.1994 - val_accuracy: 0.1000\n",
      "Epoch 2/10\n",
      "7/7 [==============================] - 1s 114ms/step - loss: 3.1584 - accuracy: 0.1250 - val_loss: 3.1208 - val_accuracy: 0.0800\n",
      "Epoch 3/10\n",
      "7/7 [==============================] - 1s 109ms/step - loss: 3.0374 - accuracy: 0.1200 - val_loss: 3.0037 - val_accuracy: 0.0800\n",
      "Epoch 4/10\n",
      "7/7 [==============================] - 1s 117ms/step - loss: 2.8402 - accuracy: 0.1700 - val_loss: 2.8407 - val_accuracy: 0.0800\n",
      "Epoch 5/10\n",
      "7/7 [==============================] - 1s 113ms/step - loss: 2.6799 - accuracy: 0.1600 - val_loss: 2.7121 - val_accuracy: 0.1000\n",
      "Epoch 6/10\n",
      "7/7 [==============================] - 1s 113ms/step - loss: 2.5351 - accuracy: 0.2000 - val_loss: 2.6012 - val_accuracy: 0.1400\n",
      "Epoch 7/10\n",
      "7/7 [==============================] - 1s 114ms/step - loss: 2.3912 - accuracy: 0.2250 - val_loss: 2.4718 - val_accuracy: 0.1200\n",
      "Epoch 8/10\n",
      "7/7 [==============================] - 1s 113ms/step - loss: 2.2445 - accuracy: 0.2950 - val_loss: 2.2924 - val_accuracy: 0.1400\n",
      "Epoch 9/10\n",
      "7/7 [==============================] - 1s 111ms/step - loss: 2.1065 - accuracy: 0.2950 - val_loss: 2.1956 - val_accuracy: 0.1400\n",
      "Epoch 10/10\n",
      "7/7 [==============================] - 1s 113ms/step - loss: 2.0038 - accuracy: 0.3300 - val_loss: 2.0199 - val_accuracy: 0.3000\n",
      "2/2 [==============================] - 0s 25ms/step - loss: 2.0199 - accuracy: 0.3000\n",
      "Accuracy: 0.30000001192092896\n"
     ]
    }
   ],
   "source": [
    "from keras.utils import to_categorical\n",
    "import numpy as np\n",
    "y_train_encoded = to_categorical(y_train, num_classes=25)\n",
    "y_test_encoded = to_categorical(y_test, num_classes=25)\n",
    "\n",
    "import tensorflow as tf\n",
    "from tensorflow.keras.models import Sequential\n",
    "from tensorflow.keras.layers import Embedding, LSTM, Dense\n",
    "\n",
    "\n",
    "from tensorflow.keras.layers import Dropout\n",
    "\n",
    "model = Sequential()\n",
    "model.add(Embedding(input_dim=max_features, output_dim=50, input_length=X_train.shape[1]))\n",
    "\n",
    "# 第一層 LSTM\n",
    "model.add(LSTM(units=128, return_sequences=True))\n",
    "model.add(LSTM(units=64))\n",
    "\n",
    "model.add(Dense(units=25, activation='softmax'))\n",
    "\n",
    "# 編譯模型\n",
    "model.compile(loss='categorical_crossentropy', optimizer='adam', metrics=['accuracy'])\n",
    "\n",
    "\n",
    "model.compile(loss='categorical_crossentropy', optimizer='adam', metrics=['accuracy'])\n",
    "\n",
    "history = model.fit(X_train, y_train_encoded , epochs=10, batch_size=32, validation_data=(X_test, y_test_encoded))\n",
    "\n",
    "_, accuracy = model.evaluate(X_test, y_test_encoded)\n",
    "print('Accuracy:', accuracy)"
   ]
  },
  {
   "cell_type": "code",
   "execution_count": 14,
   "id": "62c834da",
   "metadata": {
    "execution": {
     "iopub.execute_input": "2023-05-23T08:51:32.865338Z",
     "iopub.status.busy": "2023-05-23T08:51:32.864913Z",
     "iopub.status.idle": "2023-05-23T08:51:33.345639Z",
     "shell.execute_reply": "2023-05-23T08:51:33.344382Z"
    },
    "papermill": {
     "duration": 0.501303,
     "end_time": "2023-05-23T08:51:33.348713",
     "exception": false,
     "start_time": "2023-05-23T08:51:32.847410",
     "status": "completed"
    },
    "tags": []
   },
   "outputs": [
    {
     "data": {
      "image/png": "[encoded data removed]",
      "text/plain": [
       "<Figure size 640x480 with 2 Axes>"
      ]
     },
     "metadata": {},
     "output_type": "display_data"
    }
   ],
   "source": [
    "import matplotlib.pyplot as plt\n",
    "plt.subplot(2, 1, 1)\n",
    "plt.plot(history.history['accuracy'], label=\"Train Accuracy\")\n",
    "plt.plot(history.history[\"val_accuracy\"], label=\"Test Accuracy\")\n",
    "plt.title(\"Accuracy\")\n",
    "plt.legend()\n",
    "plt.subplot(2, 1, 2)\n",
    "plt.plot(history.history[\"loss\"], label=\"Train Loss\")\n",
    "plt.plot(history.history[\"val_loss\"], label=\"Test Loss\")\n",
    "plt.title(\"Loss\")\n",
    "plt.legend()\n",
    "plt.show()"
   ]
  },
  {
   "cell_type": "code",
   "execution_count": 15,
   "id": "ef00d15d",
   "metadata": {
    "execution": {
     "iopub.execute_input": "2023-05-23T08:51:33.385000Z",
     "iopub.status.busy": "2023-05-23T08:51:33.384540Z",
     "iopub.status.idle": "2023-05-23T08:51:33.389688Z",
     "shell.execute_reply": "2023-05-23T08:51:33.388681Z"
    },
    "papermill": {
     "duration": 0.02669,
     "end_time": "2023-05-23T08:51:33.392220",
     "exception": false,
     "start_time": "2023-05-23T08:51:33.365530",
     "status": "completed"
    },
    "tags": []
   },
   "outputs": [],
   "source": [
    "# model.fit(X_paded, y)\n",
    "# pred = model.predict(test_data)"
   ]
  },
  {
   "cell_type": "code",
   "execution_count": 16,
   "id": "d5d896e8",
   "metadata": {
    "execution": {
     "iopub.execute_input": "2023-05-23T08:51:33.428481Z",
     "iopub.status.busy": "2023-05-23T08:51:33.427765Z",
     "iopub.status.idle": "2023-05-23T08:51:33.433238Z",
     "shell.execute_reply": "2023-05-23T08:51:33.431811Z"
    },
    "papermill": {
     "duration": 0.026356,
     "end_time": "2023-05-23T08:51:33.435915",
     "exception": false,
     "start_time": "2023-05-23T08:51:33.409559",
     "status": "completed"
    },
    "tags": []
   },
   "outputs": [],
   "source": [
    "#submissionall = pd.read_csv('/kaggle/input/math-problem-categorization-data/sample_submission.csv')\n",
    "#submission.category = pred \n",
    "#submission.to_csv('submission.csv', index=False)"
   ]
  }
 ],
 "metadata": {
  "kernelspec": {
   "display_name": "Python 3",
   "language": "python",
   "name": "python3"
  },
  "language_info": {
   "codemirror_mode": {
    "name": "ipython",
    "version": 3
   },
   "file_extension": ".py",
   "mimetype": "text/x-python",
   "name": "python",
   "nbconvert_exporter": "python",
   "pygments_lexer": "ipython3",
   "version": "3.10.10"
  },
  "papermill": {
   "default_parameters": {},
   "duration": 45.783892,
   "end_time": "2023-05-23T08:51:36.185629",
   "environment_variables": {},
   "exception": null,
   "input_path": "__notebook__.ipynb",
   "output_path": "__notebook__.ipynb",
   "parameters": {},
   "start_time": "2023-05-23T08:50:50.401737",
   "version": "2.4.0"
  }
 },
 "nbformat": 4,
 "nbformat_minor": 5
}
