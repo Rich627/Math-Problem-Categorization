{
 "cells": [
  {
   "cell_type": "code",
   "execution_count": 1,
   "id": "bb15b681",
   "metadata": {
    "_cell_guid": "b1076dfc-b9ad-4769-8c92-a6c4dae69d19",
    "_uuid": "8f2839f25d086af736a60e9eeb907d3b93b6e0e5",
    "execution": {
     "iopub.execute_input": "2023-05-21T11:34:44.010656Z",
     "iopub.status.busy": "2023-05-21T11:34:44.010115Z",
     "iopub.status.idle": "2023-05-21T11:34:44.027733Z",
     "shell.execute_reply": "2023-05-21T11:34:44.026455Z"
    },
    "papermill": {
     "duration": 0.027707,
     "end_time": "2023-05-21T11:34:44.030536",
     "exception": false,
     "start_time": "2023-05-21T11:34:44.002829",
     "status": "completed"
    },
    "tags": []
   },
   "outputs": [
    {
     "name": "stdout",
     "output_type": "stream",
     "text": [
      "/kaggle/input/math-problem-categorization/sample_submission.csv\n",
      "/kaggle/input/math-problem-categorization/train.csv\n",
      "/kaggle/input/math-problem-categorization/test.csv\n"
     ]
    }
   ],
   "source": [
    "# This Python 3 environment comes with many helpful analytics libraries installed\n",
    "# It is defined by the kaggle/python Docker image: https://github.com/kaggle/docker-python\n",
    "# For example, here's several helpful packages to load\n",
    "\n",
    "import numpy as np # linear algebra\n",
    "import pandas as pd # data processing, CSV file I/O (e.g. pd.read_csv)\n",
    "\n",
    "# Input data files are available in the read-only \"../input/\" directory\n",
    "# For example, running this (by clicking run or pressing Shift+Enter) will list all files under the input directory\n",
    "\n",
    "import os\n",
    "for dirname, _, filenames in os.walk('/kaggle/input'):\n",
    "    for filename in filenames:\n",
    "        print(os.path.join(dirname, filename))\n",
    "\n",
    "# You can write up to 20GB to the current directory (/kaggle/working/) that gets preserved as output when you create a version using \"Save & Run All\" \n",
    "# You can also write temporary files to /kaggle/temp/, but they won't be saved outside of the current session"
   ]
  },
  {
   "cell_type": "code",
   "execution_count": 2,
   "id": "871dc5be",
   "metadata": {
    "execution": {
     "iopub.execute_input": "2023-05-21T11:34:44.042790Z",
     "iopub.status.busy": "2023-05-21T11:34:44.042381Z",
     "iopub.status.idle": "2023-05-21T11:34:44.074063Z",
     "shell.execute_reply": "2023-05-21T11:34:44.072905Z"
    },
    "papermill": {
     "duration": 0.040523,
     "end_time": "2023-05-21T11:34:44.076484",
     "exception": false,
     "start_time": "2023-05-21T11:34:44.035961",
     "status": "completed"
    },
    "tags": []
   },
   "outputs": [
    {
     "name": "stdout",
     "output_type": "stream",
     "text": [
      "Category: 25\n"
     ]
    }
   ],
   "source": [
    "train_data = pd.read_csv('/kaggle/input/math-problem-categorization/train.csv')\n",
    "print('Category:', len(train_data.category.unique()))"
   ]
  },
  {
   "cell_type": "code",
   "execution_count": 3,
   "id": "56a7f2b7",
   "metadata": {
    "execution": {
     "iopub.execute_input": "2023-05-21T11:34:44.088290Z",
     "iopub.status.busy": "2023-05-21T11:34:44.087642Z",
     "iopub.status.idle": "2023-05-21T11:34:44.109414Z",
     "shell.execute_reply": "2023-05-21T11:34:44.108595Z"
    },
    "papermill": {
     "duration": 0.03,
     "end_time": "2023-05-21T11:34:44.111512",
     "exception": false,
     "start_time": "2023-05-21T11:34:44.081512",
     "status": "completed"
    },
    "tags": []
   },
   "outputs": [
    {
     "data": {
      "text/html": [
       "<div>\n",
       "<style scoped>\n",
       "    .dataframe tbody tr th:only-of-type {\n",
       "        vertical-align: middle;\n",
       "    }\n",
       "\n",
       "    .dataframe tbody tr th {\n",
       "        vertical-align: top;\n",
       "    }\n",
       "\n",
       "    .dataframe thead th {\n",
       "        text-align: right;\n",
       "    }\n",
       "</style>\n",
       "<table border=\"1\" class=\"dataframe\">\n",
       "  <thead>\n",
       "    <tr style=\"text-align: right;\">\n",
       "      <th></th>\n",
       "      <th>problem</th>\n",
       "      <th>category</th>\n",
       "    </tr>\n",
       "  </thead>\n",
       "  <tbody>\n",
       "    <tr>\n",
       "      <th>0</th>\n",
       "      <td>At a ring toss game at a carnival, Marco throws `8` rings. Some of the rings are worth `5` points, and some are worth `10` points. Marco scores a total of `70` points. How many `5`-point rings and `10`-point rings did Marco toss?</td>\n",
       "      <td>19</td>\n",
       "    </tr>\n",
       "    <tr>\n",
       "      <th>1</th>\n",
       "      <td>What is `471 ÷ 100`? Interactive: Students follow steps to create an exploratory area model.</td>\n",
       "      <td>22</td>\n",
       "    </tr>\n",
       "    <tr>\n",
       "      <th>2</th>\n",
       "      <td>Follow the directions below to create an equivalent fraction for `1/2` with a denominator of `4`.\\n Interactive: Students follow steps to create an exploratory area model.</td>\n",
       "      <td>20</td>\n",
       "    </tr>\n",
       "    <tr>\n",
       "      <th>3</th>\n",
       "      <td>Solve the following system by substitution:\\n`y=-7x+6`\\n`10x+y=0`</td>\n",
       "      <td>14</td>\n",
       "    </tr>\n",
       "    <tr>\n",
       "      <th>4</th>\n",
       "      <td>Solve the following system by substitution:\\n`-8x+y=0`\\n`y=4x+8`</td>\n",
       "      <td>14</td>\n",
       "    </tr>\n",
       "  </tbody>\n",
       "</table>\n",
       "</div>"
      ],
      "text/plain": [
       "                                                                                                                                                                                                                                 problem  \\\n",
       "0  At a ring toss game at a carnival, Marco throws `8` rings. Some of the rings are worth `5` points, and some are worth `10` points. Marco scores a total of `70` points. How many `5`-point rings and `10`-point rings did Marco toss?   \n",
       "1                                                                                                                                          What is `471 ÷ 100`? Interactive: Students follow steps to create an exploratory area model.    \n",
       "2                                                           Follow the directions below to create an equivalent fraction for `1/2` with a denominator of `4`.\\n Interactive: Students follow steps to create an exploratory area model.    \n",
       "3                                                                                                                                                                      Solve the following system by substitution:\\n`y=-7x+6`\\n`10x+y=0`   \n",
       "4                                                                                                                                                                       Solve the following system by substitution:\\n`-8x+y=0`\\n`y=4x+8`   \n",
       "\n",
       "   category  \n",
       "0        19  \n",
       "1        22  \n",
       "2        20  \n",
       "3        14  \n",
       "4        14  "
      ]
     },
     "execution_count": 3,
     "metadata": {},
     "output_type": "execute_result"
    }
   ],
   "source": [
    "#display limits\n",
    "pd.set_option('display.max_colwidth', None)\n",
    "train_data.head()"
   ]
  },
  {
   "cell_type": "code",
   "execution_count": 4,
   "id": "77a7e402",
   "metadata": {
    "execution": {
     "iopub.execute_input": "2023-05-21T11:34:44.124029Z",
     "iopub.status.busy": "2023-05-21T11:34:44.123318Z",
     "iopub.status.idle": "2023-05-21T11:34:44.128780Z",
     "shell.execute_reply": "2023-05-21T11:34:44.127704Z"
    },
    "papermill": {
     "duration": 0.014501,
     "end_time": "2023-05-21T11:34:44.131210",
     "exception": false,
     "start_time": "2023-05-21T11:34:44.116709",
     "status": "completed"
    },
    "tags": []
   },
   "outputs": [
    {
     "name": "stdout",
     "output_type": "stream",
     "text": [
      "traing_data: 250\n"
     ]
    }
   ],
   "source": [
    "print('traing_data:', len(train_data))"
   ]
  },
  {
   "cell_type": "code",
   "execution_count": 5,
   "id": "351c9d9a",
   "metadata": {
    "execution": {
     "iopub.execute_input": "2023-05-21T11:34:44.144100Z",
     "iopub.status.busy": "2023-05-21T11:34:44.143074Z",
     "iopub.status.idle": "2023-05-21T11:34:44.192377Z",
     "shell.execute_reply": "2023-05-21T11:34:44.191326Z"
    },
    "papermill": {
     "duration": 0.058605,
     "end_time": "2023-05-21T11:34:44.195160",
     "exception": false,
     "start_time": "2023-05-21T11:34:44.136555",
     "status": "completed"
    },
    "tags": []
   },
   "outputs": [
    {
     "name": "stdout",
     "output_type": "stream",
     "text": [
      "                                                                                                       problem  \\\n",
      "17  Identify the terms, coefficients, variables, and constants in the following expression:\\n`4m + 5 + 2n + 3`   \n",
      "\n",
      "    category  \n",
      "17         0  \n",
      "                                                            problem  category\n",
      "14  Write an expression to match the phrase: \"`n` increased by `8`\"         1\n",
      "                                                                                      problem  \\\n",
      "32  Write an expression to match the phrase:\\n''`6` is added to the result of `9` times `d`''   \n",
      "\n",
      "    category  \n",
      "32         2  \n",
      "                                                                                                problem  \\\n",
      "38  Write an algebraic expression to match the phrase below.\\n\"Increase `d` by `7`, then divide by `5`\"   \n",
      "\n",
      "    category  \n",
      "38         3  \n",
      "                                                                                   problem  \\\n",
      "57  Write an expression to match the phrase:\"seven-eighths of `n` is subtracted from `18`\"   \n",
      "\n",
      "    category  \n",
      "57         4  \n",
      "                                                          problem  category\n",
      "21  Write an expression to match the phrase:\"`n` cubed minus `3`\"         5\n",
      "                                                          problem  category\n",
      "24  Write an equation to match the phrase:\"`b` times `3` is `27`\"         6\n",
      "                                                                                                                                                                                                              problem  \\\n",
      "31  A housepainter bought `16` gallons of paint. The paint comes in `5`-gallon and `1`-gallon cans. The housepainter bought a total of `4` cans.How many `5`-gallon and `1`-gallon cans of paint did the painter buy?   \n",
      "\n",
      "    category  \n",
      "31         7  \n",
      "                                                                                                                                                                       problem  \\\n",
      "8  Paxton had `m` marbles. He was cleaning his room and found `17` marbles under his bed. How many total marbles does Paxton now have?  Write an expression with `m` and `17`.   \n",
      "\n",
      "   category  \n",
      "8         8  \n",
      "                                                                                                                                                                                                                                                      problem  \\\n",
      "113  Brenda had `c` coins in her pocket. Unfortunately, she has a hole in her pocket and `8` coins fell out while she was walking to school.  How many coins does Brenda have left in her pocket after some fell out?  Write an expression using `c` and `8`.   \n",
      "\n",
      "     category  \n",
      "113         9  \n",
      "                                                                                                                                                                                                                  problem  \\\n",
      "6  Olivia went to a beauty store to buy `p` bottles of nail polish. Each bottle of nail polish costs `$9.50`. How much will she spend in total for the bottles of nail polish? Write an expression using `p` and `9.50`.    \n",
      "\n",
      "   category  \n",
      "6        10  \n",
      "                                                                                                                                                                                    problem  \\\n",
      "42  Determine the number of solutions for the following system of equations:\\n`y = -x - 2`\\n`y = 2x - 8`\\nNumber of solutions\\nNo solution\\nExactly one solution\\nInfinitely many solutions   \n",
      "\n",
      "    category  \n",
      "42        11  \n",
      "                                                                     problem  \\\n",
      "23  Solve the following system by elimination:\\n`-2x-2y = 4`\\n`2x + 4y = -8`   \n",
      "\n",
      "    category  \n",
      "23        12  \n",
      "                                                                  problem  \\\n",
      "18  Solve the following system by substitution:\\n`y = -4x - 4`\\n`y = -8x`   \n",
      "\n",
      "    category  \n",
      "18        13  \n",
      "                                                             problem  category\n",
      "3  Solve the following system by substitution:\\n`y=-7x+6`\\n`10x+y=0`        14\n",
      "                                                       problem  category\n",
      "16  Solve the system of equations:\\n`y = x - 5`\\n`y = -2x - 2`        15\n",
      "                                                                                                                                                                                                                                                                                                                         problem  \\\n",
      "11  Violet and Eri are taking surf lessons. Violet pays `$20` for her lesson and `$15` per hour to rent the surfboard. Eri pays `$35` for her lesson and `$10` per hour to rent the surfboard. Write two equations in slope-intercept form to represent each person's total cost `(y)`, in terms of the number of hours `(x)`.\\n   \n",
      "\n",
      "    category  \n",
      "11        16  \n",
      "                                                                                                                                                                                                                                                                                            problem  \\\n",
      "39  A bakery buys flour in `20`-pound and `50`-pound bags. During one week, they used `10.5` bags of flour, which is a total of `345` pounds. Write a system of equations to find the number of `20`-pound bags `(x)` and the number of `50`-pound bags `(y)` that the bakery used during the week.   \n",
      "\n",
      "    category  \n",
      "39        17  \n",
      "                                                                                                                                                                                                                                                            problem  \\\n",
      "12  Violet and Eri are taking surf lessons. Violet pays `$20` for her lesson and `$15` per hour to rent the surfboard. Eri pays `$35` for her lesson and `$10` per hour to rent the surfboard. After how many hours will Violet and Eri have spent the same amount?   \n",
      "\n",
      "    category  \n",
      "12        18  \n",
      "                                                                                                                                                                                                                                 problem  \\\n",
      "0  At a ring toss game at a carnival, Marco throws `8` rings. Some of the rings are worth `5` points, and some are worth `10` points. Marco scores a total of `70` points. How many `5`-point rings and `10`-point rings did Marco toss?   \n",
      "\n",
      "   category  \n",
      "0        19  \n",
      "                                                                                                                                                                        problem  \\\n",
      "2  Follow the directions below to create an equivalent fraction for `1/2` with a denominator of `4`.\\n Interactive: Students follow steps to create an exploratory area model.    \n",
      "\n",
      "   category  \n",
      "2        20  \n",
      "                                                                                   problem  \\\n",
      "79  A theater has `80` seats. If `4/5` of the seats are filled, how many seats are filled?   \n",
      "\n",
      "    category  \n",
      "79        21  \n",
      "                                                                                         problem  \\\n",
      "1  What is `471 ÷ 100`? Interactive: Students follow steps to create an exploratory area model.    \n",
      "\n",
      "   category  \n",
      "1        22  \n",
      "                              problem  category\n",
      "9  Estimate the product:\\n`1.9 × 7.8`        23\n",
      "                                problem  category\n",
      "5  Estimate the quotient:\\n`11.8 ÷ 3.1`        24\n"
     ]
    }
   ],
   "source": [
    "for i in range(25):\n",
    "    print(train_data[train_data['category']==i].head(1))"
   ]
  },
  {
   "cell_type": "code",
   "execution_count": 6,
   "id": "ceb60c55",
   "metadata": {
    "execution": {
     "iopub.execute_input": "2023-05-21T11:34:44.207974Z",
     "iopub.status.busy": "2023-05-21T11:34:44.207189Z",
     "iopub.status.idle": "2023-05-21T11:34:46.739356Z",
     "shell.execute_reply": "2023-05-21T11:34:46.738003Z"
    },
    "papermill": {
     "duration": 2.541428,
     "end_time": "2023-05-21T11:34:46.742066",
     "exception": false,
     "start_time": "2023-05-21T11:34:44.200638",
     "status": "completed"
    },
    "tags": []
   },
   "outputs": [
    {
     "name": "stderr",
     "output_type": "stream",
     "text": [
      "/opt/conda/lib/python3.10/site-packages/scipy/__init__.py:146: UserWarning: A NumPy version >=1.16.5 and <1.23.0 is required for this version of SciPy (detected version 1.23.5\n",
      "  warnings.warn(f\"A NumPy version >={np_minversion} and <{np_maxversion}\"\n"
     ]
    },
    {
     "name": "stdout",
     "output_type": "stream",
     "text": [
      "[nltk_data] Downloading package stopwords to /usr/share/nltk_data...\n",
      "[nltk_data]   Package stopwords is already up-to-date!\n",
      "[nltk_data] Downloading package punkt to /usr/share/nltk_data...\n",
      "[nltk_data]   Package punkt is already up-to-date!\n"
     ]
    },
    {
     "data": {
      "text/plain": [
       "['what',\n",
       " '`471',\n",
       " '÷',\n",
       " '100`',\n",
       " 'interact',\n",
       " 'student',\n",
       " 'follow',\n",
       " 'step',\n",
       " 'creat',\n",
       " 'exploratori',\n",
       " 'area',\n",
       " 'model']"
      ]
     },
     "execution_count": 6,
     "metadata": {},
     "output_type": "execute_result"
    }
   ],
   "source": [
    "import nltk\n",
    "from nltk.corpus import stopwords\n",
    "from nltk.tokenize import word_tokenize\n",
    "from nltk.stem import PorterStemmer\n",
    "import string\n",
    "\n",
    "#download stopwords dict \n",
    "nltk.download('stopwords')\n",
    "nltk.download('punkt')\n",
    "text = train_data.problem\n",
    "text.lower = text.apply(lambda x: x.lower())\n",
    "stop_words = set(stopwords.words('english'))\n",
    "\n",
    "#split to sigle words\n",
    "tokens = text.apply(lambda x: word_tokenize(x))\n",
    "\n",
    "filtered_tokens = tokens.apply(lambda x: [word for word in x if word not in stop_words])\n",
    "filtered_tokens = filtered_tokens.apply(lambda x: [word for word in x if word not in string.punctuation])\n",
    "filtered_tokens = filtered_tokens.apply(lambda x: [word for word in x if word.strip() != ''])\n",
    "\n",
    "#stemming\n",
    "stemmer = PorterStemmer()\n",
    "stemmed_tokens = filtered_tokens.apply(lambda x: [stemmer.stem(word) for word in x])\n",
    "stemmed_tokens[1]"
   ]
  },
  {
   "cell_type": "code",
   "execution_count": 7,
   "id": "07de6c5c",
   "metadata": {
    "execution": {
     "iopub.execute_input": "2023-05-21T11:34:46.756730Z",
     "iopub.status.busy": "2023-05-21T11:34:46.756111Z",
     "iopub.status.idle": "2023-05-21T11:34:55.572852Z",
     "shell.execute_reply": "2023-05-21T11:34:55.571987Z"
    },
    "papermill": {
     "duration": 8.826616,
     "end_time": "2023-05-21T11:34:55.574986",
     "exception": false,
     "start_time": "2023-05-21T11:34:46.748370",
     "status": "completed"
    },
    "tags": []
   },
   "outputs": [
    {
     "data": {
      "text/plain": [
       "array([[  0,   0,   0, ...,  72, 136, 212],\n",
       "       [  0,   0,   0, ...,  31,  32,  33],\n",
       "       [  0,   0,   0, ...,  31,  32,  33],\n",
       "       ...,\n",
       "       [  0,   0,   0, ..., 107, 910, 911],\n",
       "       [  0,   0,   0, ...,  24, 371,   3],\n",
       "       [  0,   0,   0, ...,  11, 612, 174]], dtype=int32)"
      ]
     },
     "execution_count": 7,
     "metadata": {},
     "output_type": "execute_result"
    }
   ],
   "source": [
    "import tensorflow as tf\n",
    "from tensorflow.keras.preprocessing.sequence import pad_sequences\n",
    "from tensorflow.keras.preprocessing.text import Tokenizer\n",
    "tokenizer = Tokenizer()\n",
    "tokenizer.fit_on_texts(stemmed_tokens)\n",
    "X_sequence = tokenizer.texts_to_sequences(stemmed_tokens)\n",
    "X_paded = pad_sequences(X_sequence)\n",
    "y = train_data.category\n",
    "X_paded"
   ]
  },
  {
   "cell_type": "code",
   "execution_count": 8,
   "id": "3fd57324",
   "metadata": {
    "execution": {
     "iopub.execute_input": "2023-05-21T11:34:55.589919Z",
     "iopub.status.busy": "2023-05-21T11:34:55.588632Z",
     "iopub.status.idle": "2023-05-21T11:34:55.599168Z",
     "shell.execute_reply": "2023-05-21T11:34:55.598032Z"
    },
    "papermill": {
     "duration": 0.020444,
     "end_time": "2023-05-21T11:34:55.601676",
     "exception": false,
     "start_time": "2023-05-21T11:34:55.581232",
     "status": "completed"
    },
    "tags": []
   },
   "outputs": [
    {
     "data": {
      "text/plain": [
       "((50, 52), (50,))"
      ]
     },
     "execution_count": 8,
     "metadata": {},
     "output_type": "execute_result"
    }
   ],
   "source": [
    "from sklearn.metrics import accuracy_score\n",
    "from sklearn.model_selection import train_test_split\n",
    "X_train, X_test, y_train, y_test = train_test_split(X_paded, y, test_size=0.8, random_state=0)\n",
    "X_train.shape, y_train.shape\n"
   ]
  },
  {
   "cell_type": "code",
   "execution_count": 9,
   "id": "bcca0d2e",
   "metadata": {
    "execution": {
     "iopub.execute_input": "2023-05-21T11:34:55.615735Z",
     "iopub.status.busy": "2023-05-21T11:34:55.615331Z",
     "iopub.status.idle": "2023-05-21T11:34:55.924784Z",
     "shell.execute_reply": "2023-05-21T11:34:55.923542Z"
    },
    "papermill": {
     "duration": 0.31975,
     "end_time": "2023-05-21T11:34:55.927676",
     "exception": false,
     "start_time": "2023-05-21T11:34:55.607926",
     "status": "completed"
    },
    "tags": []
   },
   "outputs": [],
   "source": [
    "from sklearn.ensemble import RandomForestClassifier, AdaBoostClassifier, GradientBoostingClassifier\n",
    "from sklearn.tree import DecisionTreeClassifier\n",
    "from sklearn.svm import LinearSVC\n",
    "import tensorflow as tf\n",
    "from tensorflow.keras.models import Sequential\n",
    "from tensorflow.keras.losses import CategoricalCrossentropy\n",
    "from tensorflow.keras.layers import LSTM, Dropout, Bidirectional, Dense\n",
    "RandomForest = RandomForestClassifier(random_state=0)\n",
    "AdaBoost = AdaBoostClassifier(random_state=0)\n",
    "GradientBoosting = GradientBoostingClassifier(random_state=0)\n",
    "SVM = LinearSVC(random_state=0)\n",
    "# RNN = Sequential()\n",
    "# RNN.add(LSTM(units=50, return_sequences=True))\n",
    "# RNN.add(Dropout(0.2))\n",
    "# RNN.add(LSTM(units=50, return_sequences=True))\n",
    "# RNN.add(Dropout(0.2))\n",
    "# RNN.add(LSTM(units=50))\n",
    "# RNN.add(Dropout(0.2)) \n",
    "# RNN.add(Dense(units=1))\n",
    "# RNN.compile(optimizer='adam', loss='CategoricalCrossentropy')\n",
    "# RNN.build(input_shape=(X_train.shape))\n",
    "models = [RandomForest, AdaBoost, SVM]\n",
    "# RNN.summary()"
   ]
  },
  {
   "cell_type": "code",
   "execution_count": 10,
   "id": "9a07d8b7",
   "metadata": {
    "execution": {
     "iopub.execute_input": "2023-05-21T11:34:55.942002Z",
     "iopub.status.busy": "2023-05-21T11:34:55.941607Z",
     "iopub.status.idle": "2023-05-21T11:34:56.329582Z",
     "shell.execute_reply": "2023-05-21T11:34:56.328609Z"
    },
    "papermill": {
     "duration": 0.39798,
     "end_time": "2023-05-21T11:34:56.331991",
     "exception": false,
     "start_time": "2023-05-21T11:34:55.934011",
     "status": "completed"
    },
    "tags": []
   },
   "outputs": [
    {
     "name": "stdout",
     "output_type": "stream",
     "text": [
      "RandomForestClassifier(random_state=0) Accuarcy 0.62\n",
      "AdaBoostClassifier(random_state=0) Accuarcy 0.27\n",
      "LinearSVC(random_state=0) Accuarcy 0.315\n"
     ]
    },
    {
     "name": "stderr",
     "output_type": "stream",
     "text": [
      "/opt/conda/lib/python3.10/site-packages/sklearn/svm/_base.py:1244: ConvergenceWarning: Liblinear failed to converge, increase the number of iterations.\n",
      "  warnings.warn(\n"
     ]
    }
   ],
   "source": [
    "def accuracy(model):\n",
    "    for model in models:\n",
    "        model.fit(X_train, y_train)\n",
    "        pred = model.predict(X_test)\n",
    "        print('%s Accuarcy' %model, accuracy_score(pred, y_test))\n",
    "accuracy(models)"
   ]
  },
  {
   "cell_type": "code",
   "execution_count": 11,
   "id": "750132e6",
   "metadata": {
    "execution": {
     "iopub.execute_input": "2023-05-21T11:34:56.347176Z",
     "iopub.status.busy": "2023-05-21T11:34:56.346533Z",
     "iopub.status.idle": "2023-05-21T11:34:56.351019Z",
     "shell.execute_reply": "2023-05-21T11:34:56.350200Z"
    },
    "papermill": {
     "duration": 0.014826,
     "end_time": "2023-05-21T11:34:56.353269",
     "exception": false,
     "start_time": "2023-05-21T11:34:56.338443",
     "status": "completed"
    },
    "tags": []
   },
   "outputs": [],
   "source": [
    "import matplotlib.pyplot as plt\n",
    "def plot(model):\n",
    "    plt.title()\n",
    "    plt.show()\n",
    "    "
   ]
  },
  {
   "cell_type": "code",
   "execution_count": 12,
   "id": "c309745c",
   "metadata": {
    "execution": {
     "iopub.execute_input": "2023-05-21T11:34:56.368084Z",
     "iopub.status.busy": "2023-05-21T11:34:56.367510Z",
     "iopub.status.idle": "2023-05-21T11:34:56.371092Z",
     "shell.execute_reply": "2023-05-21T11:34:56.370367Z"
    },
    "papermill": {
     "duration": 0.013472,
     "end_time": "2023-05-21T11:34:56.373222",
     "exception": false,
     "start_time": "2023-05-21T11:34:56.359750",
     "status": "completed"
    },
    "tags": []
   },
   "outputs": [],
   "source": [
    "#submissionall = pd.read_csv('/kaggle/input/math-problem-categorization-data/sample_submission.csv')\n",
    "#submission.category = pred \n",
    "#submission.to_csv('submission.csv', index=False)"
   ]
  }
 ],
 "metadata": {
  "kernelspec": {
   "display_name": "Python 3",
   "language": "python",
   "name": "python3"
  },
  "language_info": {
   "codemirror_mode": {
    "name": "ipython",
    "version": 3
   },
   "file_extension": ".py",
   "mimetype": "text/x-python",
   "name": "python",
   "nbconvert_exporter": "python",
   "pygments_lexer": "ipython3",
   "version": "3.10.10"
  },
  "papermill": {
   "default_parameters": {},
   "duration": 27.717605,
   "end_time": "2023-05-21T11:34:59.562374",
   "environment_variables": {},
   "exception": null,
   "input_path": "__notebook__.ipynb",
   "output_path": "__notebook__.ipynb",
   "parameters": {},
   "start_time": "2023-05-21T11:34:31.844769",
   "version": "2.4.0"
  }
 },
 "nbformat": 4,
 "nbformat_minor": 5
}
